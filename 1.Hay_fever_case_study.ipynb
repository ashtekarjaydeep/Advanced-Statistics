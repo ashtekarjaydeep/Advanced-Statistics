{
 "cells": [
  {
   "cell_type": "markdown",
   "metadata": {},
   "source": [
    "Problem 1:\n",
    "\n",
    "A research laboratory was developing a new compound for the relief of severe cases of hay fever. In an experiment with 36 volunteers, the amounts of the two active ingredients (A & B) in the compound were varied at three levels each. Randomization was used in assigning four volunteers to each of the nine treatments. The data on hours of relief can be found in the following .csv file: Fever.csv\n",
    "\n",
    "1.1) State the Null and Alternate Hypothesis for conducting one-way ANOVA for both the variables ‘A’ and ‘B’ individually.\n",
    "\n",
    "1.2) Perform one-way ANOVA for variable ‘A’ with respect to the variable ‘Relief’. State whether the Null Hypothesis is accepted or rejected based on the ANOVA results.\n",
    "\n",
    "1.3) Perform one-way ANOVA for variable ‘B’ with respect to the variable ‘Relief’. State whether the Null Hypothesis is accepted or rejected based on the ANOVA results.\n",
    "\n",
    "1.4) Analyse the effects of one variable on another with the help of an interaction plot.\n",
    "What is an interaction between two treatments?\n",
    "[hint: use the ‘pointplot’ function from the ‘seaborn’ function]\n",
    "\n",
    "1.5) Perform a two-way ANOVA based on the different ingredients (variable ‘A’ & ‘B’) with the variable 'Relief' and state your results.\n",
    "\n",
    "1.6) Mention the business implications of performing ANOVA for this particular case study."
   ]
  },
  {
   "cell_type": "code",
   "execution_count": 1,
   "metadata": {},
   "outputs": [],
   "source": [
    "import numpy as np\n",
    "import pandas as pd\n",
    "import seaborn as sns\n",
    "from statsmodels.formula.api import ols      \n",
    "from statsmodels.stats.anova import _get_covariance,anova_lm\n",
    "%matplotlib inline"
   ]
  },
  {
   "cell_type": "code",
   "execution_count": 2,
   "metadata": {},
   "outputs": [
    {
     "data": {
      "text/html": [
       "<div>\n",
       "<style scoped>\n",
       "    .dataframe tbody tr th:only-of-type {\n",
       "        vertical-align: middle;\n",
       "    }\n",
       "\n",
       "    .dataframe tbody tr th {\n",
       "        vertical-align: top;\n",
       "    }\n",
       "\n",
       "    .dataframe thead th {\n",
       "        text-align: right;\n",
       "    }\n",
       "</style>\n",
       "<table border=\"1\" class=\"dataframe\">\n",
       "  <thead>\n",
       "    <tr style=\"text-align: right;\">\n",
       "      <th></th>\n",
       "      <th>A</th>\n",
       "      <th>B</th>\n",
       "      <th>Volunteer</th>\n",
       "      <th>Relief</th>\n",
       "    </tr>\n",
       "  </thead>\n",
       "  <tbody>\n",
       "    <tr>\n",
       "      <th>0</th>\n",
       "      <td>1</td>\n",
       "      <td>1</td>\n",
       "      <td>1</td>\n",
       "      <td>2.4</td>\n",
       "    </tr>\n",
       "    <tr>\n",
       "      <th>1</th>\n",
       "      <td>1</td>\n",
       "      <td>1</td>\n",
       "      <td>2</td>\n",
       "      <td>2.7</td>\n",
       "    </tr>\n",
       "    <tr>\n",
       "      <th>2</th>\n",
       "      <td>1</td>\n",
       "      <td>1</td>\n",
       "      <td>3</td>\n",
       "      <td>2.3</td>\n",
       "    </tr>\n",
       "    <tr>\n",
       "      <th>3</th>\n",
       "      <td>1</td>\n",
       "      <td>1</td>\n",
       "      <td>4</td>\n",
       "      <td>2.5</td>\n",
       "    </tr>\n",
       "    <tr>\n",
       "      <th>4</th>\n",
       "      <td>1</td>\n",
       "      <td>2</td>\n",
       "      <td>1</td>\n",
       "      <td>4.6</td>\n",
       "    </tr>\n",
       "  </tbody>\n",
       "</table>\n",
       "</div>"
      ],
      "text/plain": [
       "   A  B  Volunteer  Relief\n",
       "0  1  1          1     2.4\n",
       "1  1  1          2     2.7\n",
       "2  1  1          3     2.3\n",
       "3  1  1          4     2.5\n",
       "4  1  2          1     4.6"
      ]
     },
     "execution_count": 2,
     "metadata": {},
     "output_type": "execute_result"
    }
   ],
   "source": [
    "fever=pd.read_csv(\"E:\\Great learning data science\\Advanced statistics\\Project\\Fever.csv\")\n",
    "fever.head()"
   ]
  },
  {
   "cell_type": "code",
   "execution_count": 3,
   "metadata": {},
   "outputs": [
    {
     "data": {
      "text/plain": [
       "Volunteer  A  B  Relief\n",
       "1          1  1  2.4       1\n",
       "              2  4.6       1\n",
       "              3  4.8       1\n",
       "           2  1  5.8       1\n",
       "              2  8.9       1\n",
       "              3  9.1       1\n",
       "           3  1  6.1       1\n",
       "              2  9.9       1\n",
       "              3  13.5      1\n",
       "2          1  1  2.7       1\n",
       "              2  4.2       1\n",
       "              3  4.5       1\n",
       "           2  1  5.2       1\n",
       "              2  9.1       1\n",
       "              3  9.3       1\n",
       "           3  1  5.7       1\n",
       "              2  10.5      1\n",
       "              3  13.0      1\n",
       "3          1  1  2.3       1\n",
       "              2  4.9       1\n",
       "              3  4.4       1\n",
       "           2  1  5.5       1\n",
       "              2  8.7       1\n",
       "              3  8.7       1\n",
       "           3  1  5.9       1\n",
       "              2  10.6      1\n",
       "              3  13.3      1\n",
       "4          1  1  2.5       1\n",
       "              2  4.7       1\n",
       "              3  4.6       1\n",
       "           2  1  5.3       1\n",
       "              2  9.0       1\n",
       "              3  9.4       1\n",
       "           3  1  6.2       1\n",
       "              2  10.1      1\n",
       "              3  13.2      1\n",
       "dtype: int64"
      ]
     },
     "execution_count": 3,
     "metadata": {},
     "output_type": "execute_result"
    }
   ],
   "source": [
    "pd.set_option(\"display.max_columns\", 101)\n",
    "fever.groupby(by=['Volunteer','A','B','Relief']).size()"
   ]
  },
  {
   "cell_type": "code",
   "execution_count": 4,
   "metadata": {},
   "outputs": [
    {
     "data": {
      "text/plain": [
       "(36, 4)"
      ]
     },
     "execution_count": 4,
     "metadata": {},
     "output_type": "execute_result"
    }
   ],
   "source": [
    "fever.shape"
   ]
  },
  {
   "cell_type": "code",
   "execution_count": 5,
   "metadata": {},
   "outputs": [
    {
     "data": {
      "text/plain": [
       "A            0\n",
       "B            0\n",
       "Volunteer    0\n",
       "Relief       0\n",
       "dtype: int64"
      ]
     },
     "execution_count": 5,
     "metadata": {},
     "output_type": "execute_result"
    }
   ],
   "source": [
    "fever.isnull().sum()"
   ]
  },
  {
   "cell_type": "code",
   "execution_count": 6,
   "metadata": {},
   "outputs": [
    {
     "data": {
      "text/plain": [
       "<matplotlib.axes._subplots.AxesSubplot at 0xae26da0>"
      ]
     },
     "execution_count": 6,
     "metadata": {},
     "output_type": "execute_result"
    },
    {
     "data": {
      "image/png": "[encoded data removed]",
      "text/plain": [
       "<Figure size 432x288 with 1 Axes>"
      ]
     },
     "metadata": {
      "needs_background": "light"
     },
     "output_type": "display_data"
    }
   ],
   "source": [
    "sns.barplot(x=fever['A'],y=fever['Relief'],ci=0,hue=fever['Volunteer'])# \tB \tVolunteer \t"
   ]
  },
  {
   "cell_type": "code",
   "execution_count": 7,
   "metadata": {},
   "outputs": [
    {
     "data": {
      "text/plain": [
       "<matplotlib.axes._subplots.AxesSubplot at 0xaf320f0>"
      ]
     },
     "execution_count": 7,
     "metadata": {},
     "output_type": "execute_result"
    },
    {
     "data": {
      "image/png": "[encoded data removed]",
      "text/plain": [
       "<Figure size 432x288 with 1 Axes>"
      ]
     },
     "metadata": {
      "needs_background": "light"
     },
     "output_type": "display_data"
    }
   ],
   "source": [
    "sns.barplot(x=fever['B'],y=fever['Relief'],ci=0,hue=fever['Volunteer'])"
   ]
  },
  {
   "cell_type": "code",
   "execution_count": 8,
   "metadata": {},
   "outputs": [
    {
     "data": {
      "text/plain": [
       "<matplotlib.axes._subplots.AxesSubplot at 0xb002ac8>"
      ]
     },
     "execution_count": 8,
     "metadata": {},
     "output_type": "execute_result"
    },
    {
     "data": {
      "image/png": "[encoded data removed]",
      "text/plain": [
       "<Figure size 432x288 with 1 Axes>"
      ]
     },
     "metadata": {
      "needs_background": "light"
     },
     "output_type": "display_data"
    }
   ],
   "source": [
    "#sns.scatterplot(x=fever['B'],y=fever['Relief'],hue=fever['Volunteer'],ci=0)\n",
    "sns.distplot(fever['Relief'])"
   ]
  },
  {
   "cell_type": "code",
   "execution_count": 9,
   "metadata": {},
   "outputs": [
    {
     "data": {
      "text/plain": [
       "<matplotlib.axes._subplots.AxesSubplot at 0xafb9da0>"
      ]
     },
     "execution_count": 9,
     "metadata": {},
     "output_type": "execute_result"
    },
    {
     "data": {
      "image/png": "[encoded data removed]",
      "text/plain": [
       "<Figure size 432x288 with 1 Axes>"
      ]
     },
     "metadata": {
      "needs_background": "light"
     },
     "output_type": "display_data"
    }
   ],
   "source": [
    "sns.pointplot(x=fever['A'],y=fever['Relief'],hue=fever['Volunteer'],ci=0)"
   ]
  },
  {
   "cell_type": "code",
   "execution_count": 10,
   "metadata": {},
   "outputs": [
    {
     "data": {
      "text/plain": [
       "<matplotlib.axes._subplots.AxesSubplot at 0xb7a8e48>"
      ]
     },
     "execution_count": 10,
     "metadata": {},
     "output_type": "execute_result"
    },
    {
     "data": {
      "image/png": "[encoded data removed]",
      "text/plain": [
       "<Figure size 432x288 with 1 Axes>"
      ]
     },
     "metadata": {
      "needs_background": "light"
     },
     "output_type": "display_data"
    }
   ],
   "source": [
    "sns.pointplot(x=fever['B'],y=fever['Relief'],hue=fever['Volunteer'],ci=0)"
   ]
  },
  {
   "cell_type": "code",
   "execution_count": 11,
   "metadata": {},
   "outputs": [
    {
     "data": {
      "text/plain": [
       "<matplotlib.axes._subplots.AxesSubplot at 0xb837d30>"
      ]
     },
     "metadata": {},
     "output_type": "display_data"
    },
    {
     "data": {
      "text/plain": [
       "<matplotlib.axes._subplots.AxesSubplot at 0xb837d30>"
      ]
     },
     "metadata": {},
     "output_type": "display_data"
    },
    {
     "data": {
      "image/png": "[encoded data removed]",
      "text/plain": [
       "<Figure size 432x288 with 1 Axes>"
      ]
     },
     "metadata": {
      "needs_background": "light"
     },
     "output_type": "display_data"
    }
   ],
   "source": [
    "display(sns.pointplot(x=fever['A'],y=fever['Relief'],color=\"Red\"),sns.pointplot(x=fever['B'],y=fever['Relief']))"
   ]
  },
  {
   "cell_type": "code",
   "execution_count": 12,
   "metadata": {},
   "outputs": [
    {
     "data": {
      "text/plain": [
       "<matplotlib.axes._subplots.AxesSubplot at 0xb8b2a90>"
      ]
     },
     "execution_count": 12,
     "metadata": {},
     "output_type": "execute_result"
    },
    {
     "data": {
      "image/png": "[encoded data removed]",
      "text/plain": [
       "<Figure size 432x288 with 1 Axes>"
      ]
     },
     "metadata": {
      "needs_background": "light"
     },
     "output_type": "display_data"
    }
   ],
   "source": [
    "sns.barplot(x=fever['A'],y=fever['Relief'],hue=fever['B'],ci=0)"
   ]
  },
  {
   "cell_type": "code",
   "execution_count": 13,
   "metadata": {},
   "outputs": [
    {
     "data": {
      "text/plain": [
       "<matplotlib.axes._subplots.AxesSubplot at 0xb922b38>"
      ]
     },
     "execution_count": 13,
     "metadata": {},
     "output_type": "execute_result"
    },
    {
     "data": {
      "image/png": "[encoded data removed]",
      "text/plain": [
       "<Figure size 432x288 with 1 Axes>"
      ]
     },
     "metadata": {
      "needs_background": "light"
     },
     "output_type": "display_data"
    }
   ],
   "source": [
    "sns.pointplot(x=fever['A'],y=fever['Relief'],hue=fever['Volunteer'],ci=0)"
   ]
  },
  {
   "cell_type": "code",
   "execution_count": 14,
   "metadata": {},
   "outputs": [
    {
     "data": {
      "text/plain": [
       "<matplotlib.axes._subplots.AxesSubplot at 0xb870978>"
      ]
     },
     "execution_count": 14,
     "metadata": {},
     "output_type": "execute_result"
    },
    {
     "data": {
      "image/png": "[encoded data removed]",
      "text/plain": [
       "<Figure size 432x288 with 1 Axes>"
      ]
     },
     "metadata": {
      "needs_background": "light"
     },
     "output_type": "display_data"
    }
   ],
   "source": [
    "sns.boxplot(x=\"A\", y=\"Relief\", data=fever)"
   ]
  },
  {
   "cell_type": "code",
   "execution_count": 15,
   "metadata": {},
   "outputs": [
    {
     "data": {
      "text/plain": [
       "<matplotlib.axes._subplots.AxesSubplot at 0xb9e66d8>"
      ]
     },
     "execution_count": 15,
     "metadata": {},
     "output_type": "execute_result"
    },
    {
     "data": {
      "image/png": "[encoded data removed]",
      "text/plain": [
       "<Figure size 432x288 with 1 Axes>"
      ]
     },
     "metadata": {
      "needs_background": "light"
     },
     "output_type": "display_data"
    }
   ],
   "source": [
    "sns.boxplot(x=\"B\", y=\"Relief\", data=fever)"
   ]
  },
  {
   "cell_type": "code",
   "execution_count": 16,
   "metadata": {},
   "outputs": [],
   "source": [
    "import sympy as sym\n",
    "\n",
    "mu,theta,sigma =sym.symbols('mu theta sigma')"
   ]
  },
  {
   "cell_type": "markdown",
   "metadata": {},
   "source": [
    "# 1.1) State the Null and Alternate Hypothesis for conducting one-way ANOVA for both the variables ‘A’ and ‘B’ individually.\n",
    "\n",
    "Ans:\n",
    "\n",
    "1.For variable A \n",
    "- null hypothesis is 𝜇1=𝜇2=𝜇3\n",
    "- alternate hypothesis is atleast one out of 𝜇1,𝜇2 or 𝜇3 is not same.\n",
    "\n",
    "2.For variable B\n",
    "\n",
    "    \n",
    "- null hypothesis is 𝜇1=𝜇2=𝜇3\n",
    "- alternate hypothesis is atleast one out of 𝜇1,𝜇2 or 𝜇3 is not same.\n"
   ]
  },
  {
   "cell_type": "markdown",
   "metadata": {},
   "source": [
    "# 1.2) Perform one-way ANOVA for variable ‘A’ with respect to the variable ‘Relief’. State whether the Null Hypothesis is accepted or rejected based on the ANOVA results."
   ]
  },
  {
   "cell_type": "code",
   "execution_count": 17,
   "metadata": {},
   "outputs": [],
   "source": [
    "from statsmodels.formula.api import ols      # For n-way ANOVA\n",
    "from statsmodels.stats.anova import _get_covariance,anova_lm # For n-way ANOVA\n",
    "%matplotlib inline"
   ]
  },
  {
   "cell_type": "code",
   "execution_count": 18,
   "metadata": {},
   "outputs": [
    {
     "data": {
      "text/html": [
       "<div>\n",
       "<style scoped>\n",
       "    .dataframe tbody tr th:only-of-type {\n",
       "        vertical-align: middle;\n",
       "    }\n",
       "\n",
       "    .dataframe tbody tr th {\n",
       "        vertical-align: top;\n",
       "    }\n",
       "\n",
       "    .dataframe thead th {\n",
       "        text-align: right;\n",
       "    }\n",
       "</style>\n",
       "<table border=\"1\" class=\"dataframe\">\n",
       "  <thead>\n",
       "    <tr style=\"text-align: right;\">\n",
       "      <th></th>\n",
       "      <th>df</th>\n",
       "      <th>sum_sq</th>\n",
       "      <th>mean_sq</th>\n",
       "      <th>F</th>\n",
       "      <th>PR(&gt;F)</th>\n",
       "    </tr>\n",
       "  </thead>\n",
       "  <tbody>\n",
       "    <tr>\n",
       "      <th>C(A)</th>\n",
       "      <td>2.0</td>\n",
       "      <td>220.02</td>\n",
       "      <td>110.010000</td>\n",
       "      <td>23.465387</td>\n",
       "      <td>4.578242e-07</td>\n",
       "    </tr>\n",
       "    <tr>\n",
       "      <th>Residual</th>\n",
       "      <td>33.0</td>\n",
       "      <td>154.71</td>\n",
       "      <td>4.688182</td>\n",
       "      <td>NaN</td>\n",
       "      <td>NaN</td>\n",
       "    </tr>\n",
       "  </tbody>\n",
       "</table>\n",
       "</div>"
      ],
      "text/plain": [
       "            df  sum_sq     mean_sq          F        PR(>F)\n",
       "C(A)       2.0  220.02  110.010000  23.465387  4.578242e-07\n",
       "Residual  33.0  154.71    4.688182        NaN           NaN"
      ]
     },
     "execution_count": 18,
     "metadata": {},
     "output_type": "execute_result"
    }
   ],
   "source": [
    "formula = 'Relief ~ C(A)'\n",
    "model = ols(formula, fever).fit()\n",
    "aov_table = anova_lm(model)\n",
    "aov_table"
   ]
  },
  {
   "cell_type": "markdown",
   "metadata": {},
   "source": [
    "# Ans: \n",
    "  - For A as P value is less than 0.05(4.578242e-07) so null will be rejected(means A has significant effect on relief)"
   ]
  },
  {
   "cell_type": "markdown",
   "metadata": {},
   "source": [
    "# 1.3) Perform one-way ANOVA for variable ‘B’ with respect to the variable ‘Relief’. State whether the Null Hypothesis is accepted or rejected based on the ANOVA results."
   ]
  },
  {
   "cell_type": "code",
   "execution_count": 19,
   "metadata": {},
   "outputs": [
    {
     "data": {
      "text/html": [
       "<div>\n",
       "<style scoped>\n",
       "    .dataframe tbody tr th:only-of-type {\n",
       "        vertical-align: middle;\n",
       "    }\n",
       "\n",
       "    .dataframe tbody tr th {\n",
       "        vertical-align: top;\n",
       "    }\n",
       "\n",
       "    .dataframe thead th {\n",
       "        text-align: right;\n",
       "    }\n",
       "</style>\n",
       "<table border=\"1\" class=\"dataframe\">\n",
       "  <thead>\n",
       "    <tr style=\"text-align: right;\">\n",
       "      <th></th>\n",
       "      <th>df</th>\n",
       "      <th>sum_sq</th>\n",
       "      <th>mean_sq</th>\n",
       "      <th>F</th>\n",
       "      <th>PR(&gt;F)</th>\n",
       "    </tr>\n",
       "  </thead>\n",
       "  <tbody>\n",
       "    <tr>\n",
       "      <th>C(B)</th>\n",
       "      <td>2.0</td>\n",
       "      <td>123.66</td>\n",
       "      <td>61.830000</td>\n",
       "      <td>8.126777</td>\n",
       "      <td>0.00135</td>\n",
       "    </tr>\n",
       "    <tr>\n",
       "      <th>Residual</th>\n",
       "      <td>33.0</td>\n",
       "      <td>251.07</td>\n",
       "      <td>7.608182</td>\n",
       "      <td>NaN</td>\n",
       "      <td>NaN</td>\n",
       "    </tr>\n",
       "  </tbody>\n",
       "</table>\n",
       "</div>"
      ],
      "text/plain": [
       "            df  sum_sq    mean_sq         F   PR(>F)\n",
       "C(B)       2.0  123.66  61.830000  8.126777  0.00135\n",
       "Residual  33.0  251.07   7.608182       NaN      NaN"
      ]
     },
     "execution_count": 19,
     "metadata": {},
     "output_type": "execute_result"
    }
   ],
   "source": [
    "formula = 'Relief ~ C(B)'\n",
    "model = ols(formula, fever).fit()\n",
    "aov_table = anova_lm(model)\n",
    "aov_table"
   ]
  },
  {
   "cell_type": "markdown",
   "metadata": {},
   "source": [
    "\n",
    "# Ans  \n",
    "  - For B as P value is less than 0.05(0.00135) so null will be rejected.(means B has significant effect on relief)"
   ]
  },
  {
   "cell_type": "markdown",
   "metadata": {},
   "source": [
    "# 1.4) Analyse the effects of one variable on another with the help of an interaction plot. What is an interaction between two treatments? [hint: use the ‘pointplot’ function from the ‘seaborn’ function]"
   ]
  },
  {
   "cell_type": "code",
   "execution_count": 20,
   "metadata": {
    "scrolled": true
   },
   "outputs": [
    {
     "data": {
      "text/plain": [
       "<matplotlib.axes._subplots.AxesSubplot at 0xcbdd128>"
      ]
     },
     "execution_count": 20,
     "metadata": {},
     "output_type": "execute_result"
    },
    {
     "data": {
      "image/png": "[encoded data removed]",
      "text/plain": [
       "<Figure size 432x288 with 1 Axes>"
      ]
     },
     "metadata": {
      "needs_background": "light"
     },
     "output_type": "display_data"
    }
   ],
   "source": [
    "sns.pointplot(fever['A'],fever['Relief'],ci=0,hue=fever['Volunteer'])"
   ]
  },
  {
   "cell_type": "markdown",
   "metadata": {},
   "source": [
    "# explanation \n",
    "- The relief increases as level of 'A' increases.\n",
    "- The effect of relief is almost same on all volunteers\n",
    "- The rate of increase of relief from A1 to A2 is more than from A2 to A3."
   ]
  },
  {
   "cell_type": "code",
   "execution_count": 21,
   "metadata": {},
   "outputs": [
    {
     "data": {
      "text/plain": [
       "<matplotlib.axes._subplots.AxesSubplot at 0xccc5630>"
      ]
     },
     "execution_count": 21,
     "metadata": {},
     "output_type": "execute_result"
    },
    {
     "data": {
      "image/png": "[encoded data removed]",
      "text/plain": [
       "<Figure size 432x288 with 1 Axes>"
      ]
     },
     "metadata": {
      "needs_background": "light"
     },
     "output_type": "display_data"
    }
   ],
   "source": [
    "sns.pointplot(fever['B'],fever['Relief'],ci=0,hue=fever['Volunteer'])"
   ]
  },
  {
   "cell_type": "markdown",
   "metadata": {},
   "source": [
    "# Explanation:\n",
    "- Relief increases as the level of B increases.\n",
    "- Rate of increase of relief is more from B1 to B2 and less from B2 to B3.\n",
    "- The relief varies from volunteer to volunteer as compared to 'A'."
   ]
  },
  {
   "cell_type": "markdown",
   "metadata": {},
   "source": [
    "# 1.5) Perform a two-way ANOVA based on the different ingredients (variable ‘A’ & ‘B’) with the variable 'Relief' and state your results."
   ]
  },
  {
   "cell_type": "code",
   "execution_count": 22,
   "metadata": {},
   "outputs": [
    {
     "data": {
      "text/html": [
       "<div>\n",
       "<style scoped>\n",
       "    .dataframe tbody tr th:only-of-type {\n",
       "        vertical-align: middle;\n",
       "    }\n",
       "\n",
       "    .dataframe tbody tr th {\n",
       "        vertical-align: top;\n",
       "    }\n",
       "\n",
       "    .dataframe thead th {\n",
       "        text-align: right;\n",
       "    }\n",
       "</style>\n",
       "<table border=\"1\" class=\"dataframe\">\n",
       "  <thead>\n",
       "    <tr style=\"text-align: right;\">\n",
       "      <th></th>\n",
       "      <th>df</th>\n",
       "      <th>sum_sq</th>\n",
       "      <th>mean_sq</th>\n",
       "      <th>F</th>\n",
       "      <th>PR(&gt;F)</th>\n",
       "    </tr>\n",
       "  </thead>\n",
       "  <tbody>\n",
       "    <tr>\n",
       "      <th>C(A)</th>\n",
       "      <td>2.0</td>\n",
       "      <td>220.02</td>\n",
       "      <td>110.010000</td>\n",
       "      <td>109.832850</td>\n",
       "      <td>8.514029e-15</td>\n",
       "    </tr>\n",
       "    <tr>\n",
       "      <th>C(B)</th>\n",
       "      <td>2.0</td>\n",
       "      <td>123.66</td>\n",
       "      <td>61.830000</td>\n",
       "      <td>61.730435</td>\n",
       "      <td>1.546749e-11</td>\n",
       "    </tr>\n",
       "    <tr>\n",
       "      <th>Residual</th>\n",
       "      <td>31.0</td>\n",
       "      <td>31.05</td>\n",
       "      <td>1.001613</td>\n",
       "      <td>NaN</td>\n",
       "      <td>NaN</td>\n",
       "    </tr>\n",
       "  </tbody>\n",
       "</table>\n",
       "</div>"
      ],
      "text/plain": [
       "            df  sum_sq     mean_sq           F        PR(>F)\n",
       "C(A)       2.0  220.02  110.010000  109.832850  8.514029e-15\n",
       "C(B)       2.0  123.66   61.830000   61.730435  1.546749e-11\n",
       "Residual  31.0   31.05    1.001613         NaN           NaN"
      ]
     },
     "execution_count": 22,
     "metadata": {},
     "output_type": "execute_result"
    }
   ],
   "source": [
    "formula = 'Relief ~ C(A)+C(B)'\n",
    "model = ols(formula, fever).fit()\n",
    "aov_table = anova_lm(model)\n",
    "aov_table"
   ]
  },
  {
   "cell_type": "code",
   "execution_count": 23,
   "metadata": {},
   "outputs": [
    {
     "name": "stdout",
     "output_type": "stream",
     "text": [
      "\n",
      "Table1:\n",
      "Effect of A and B=\n",
      "\n",
      "             df  sum_sq     mean_sq           F        PR(>F)\n",
      "C(A)       2.0  220.02  110.010000  109.832850  8.514029e-15\n",
      "C(B)       2.0  123.66   61.830000   61.730435  1.546749e-11\n",
      "Residual  31.0   31.05    1.001613         NaN           NaN\n",
      "\n",
      "Table2:\n",
      "Effect of A and B(interaction with Volunteer)=\n",
      "\n",
      "                      df      sum_sq     mean_sq          F        PR(>F)\n",
      "C(A)                2.0  220.020000  110.010000  78.971721  9.123327e-11\n",
      "C(B):C(Volunteer)  11.0  124.063333   11.278485   8.096367  1.863192e-05\n",
      "Residual           22.0   30.646667    1.393030        NaN           NaN\n",
      "\n",
      "Table3:\n",
      "Effect of B and A(interaction with Volunteer)=\n",
      "\n",
      "                      df      sum_sq    mean_sq          F        PR(>F)\n",
      "C(B)                2.0  123.660000  61.830000  44.183413  1.974356e-08\n",
      "C(A):C(Volunteer)  11.0  220.283333  20.025758  14.310307  1.370125e-07\n",
      "Residual           22.0   30.786667   1.399394        NaN           NaN\n",
      "\n",
      "Table4:\n",
      "Effect of A(interaction with Volunteer)and B(interaction with Volunteer)=\n",
      "\n",
      "                      df      sum_sq    mean_sq          F    PR(>F)\n",
      "C(B):C(Volunteer)  11.0  124.063333  11.278485   5.925216  0.000779\n",
      "C(A):C(Volunteer)   8.0  220.211111  27.526389  14.461146  0.000006\n",
      "Residual           16.0   30.455556   1.903472        NaN       NaN\n",
      "\n",
      "Table5:\n",
      "Effect of (A + B)(interaction with Volunteer)=\n",
      "\n",
      "                      df      sum_sq    mean_sq          F    PR(>F)\n",
      "C(B):C(Volunteer)  11.0  124.063333  11.278485   5.925216  0.000779\n",
      "C(A):C(Volunteer)   8.0  220.211111  27.526389  14.461146  0.000006\n",
      "Residual           16.0   30.455556   1.903472        NaN       NaN\n",
      "\n",
      "Table6:\n",
      "Effect of A(interaction with Volunteer)=\n",
      "\n",
      "                      df      sum_sq    mean_sq         F    PR(>F)\n",
      "C(A):C(Volunteer)  11.0  220.283333  20.025758  3.111872  0.009697\n",
      "Residual           24.0  154.446667   6.435278       NaN       NaN\n",
      "\n",
      "Table7:\n",
      "Effect of B(interaction with Volunteer)=\n",
      "\n",
      "                      df      sum_sq    mean_sq         F    PR(>F)\n",
      "C(B):C(Volunteer)  11.0  124.063333  11.278485  1.079855  0.416083\n",
      "Residual           24.0  250.666667  10.444444       NaN       NaN\n",
      "\n",
      "Table8:\n",
      "Effect of B(interaction with Volunteer)=\n",
      "\n",
      "             df  sum_sq     mean_sq          F        PR(>F)\n",
      "C(A)       2.0  220.02  110.010000  23.465387  4.578242e-07\n",
      "Residual  33.0  154.71    4.688182        NaN           NaN\n",
      "\n",
      "Table9:\n",
      "Effect of B(interaction with Volunteer)=\n",
      "\n",
      "             df  sum_sq    mean_sq         F   PR(>F)\n",
      "C(B)       2.0  123.66  61.830000  8.126777  0.00135\n",
      "Residual  33.0  251.07   7.608182       NaN      NaN\n"
     ]
    }
   ],
   "source": [
    "formula = 'Relief ~ C(A)+C(B)'\n",
    "model = ols(formula, fever).fit()\n",
    "aov_table = anova_lm(model)\n",
    "print('\\nTable1:\\nEffect of A and B=\\n\\n',aov_table)\n",
    "\n",
    "formula = 'Relief ~ C(A)+C(B):C(Volunteer)'\n",
    "model = ols(formula, fever).fit()\n",
    "aov_table = anova_lm(model)\n",
    "print('\\nTable2:\\nEffect of A and B(interaction with Volunteer)=\\n\\n', aov_table)\n",
    "\n",
    "formula = 'Relief ~ C(B)+C(A):C(Volunteer)'\n",
    "model = ols(formula, fever).fit()\n",
    "aov_table = anova_lm(model)\n",
    "print('\\nTable3:\\nEffect of B and A(interaction with Volunteer)=\\n\\n',aov_table)\n",
    "\n",
    "formula = 'Relief ~ C(B):C(Volunteer)+C(A):C(Volunteer)'\n",
    "model = ols(formula, fever).fit()\n",
    "aov_table = anova_lm(model)\n",
    "print('\\nTable4:\\nEffect of A(interaction with Volunteer)and B(interaction with Volunteer)=\\n\\n',aov_table)\n",
    "\n",
    "\n",
    "formula = 'Relief ~ (C(B)+C(A)):C(Volunteer)'\n",
    "model = ols(formula, fever).fit()\n",
    "aov_table = anova_lm(model)\n",
    "print('\\nTable5:\\nEffect of (A + B)(interaction with Volunteer)=\\n\\n',aov_table)\n",
    "\n",
    "formula = 'Relief ~ C(A):C(Volunteer)'\n",
    "model = ols(formula, fever).fit()\n",
    "aov_table = anova_lm(model)\n",
    "print('\\nTable6:\\nEffect of A(interaction with Volunteer)=\\n\\n',aov_table)\n",
    "\n",
    "formula = 'Relief ~ C(B):C(Volunteer)'\n",
    "model = ols(formula, fever).fit()\n",
    "aov_table = anova_lm(model)\n",
    "print('\\nTable7:\\nEffect of B(interaction with Volunteer)=\\n\\n',aov_table)\n",
    "\n",
    "formula = 'Relief ~ C(A)'\n",
    "model = ols(formula, fever).fit()\n",
    "aov_table = anova_lm(model)\n",
    "print('\\nTable8:\\nEffect of B(interaction with Volunteer)=\\n\\n',aov_table)\n",
    "\n",
    "formula = 'Relief ~ C(B)'\n",
    "model = ols(formula, fever).fit()\n",
    "aov_table = anova_lm(model)\n",
    "print('\\nTable9:\\nEffect of B(interaction with Volunteer)=\\n\\n',aov_table)"
   ]
  },
  {
   "cell_type": "markdown",
   "metadata": {},
   "source": [
    "# Ans:\n",
    "- All above combinations has significant effect on relief except B(interaction with Volunteer)(Table 7)\n",
    "- It has p value 0.41608(greater than 0.05)"
   ]
  },
  {
   "cell_type": "markdown",
   "metadata": {},
   "source": [
    "# 1.6) Mention the business implications of performing ANOVA for this particular case study.\n",
    "\n"
   ]
  },
  {
   "cell_type": "markdown",
   "metadata": {},
   "source": [
    "# Business Implications:\n",
    "\n",
    "# - From this ANOVA analysis we conclude that \n",
    "- Individual A and B has effect on relief.But combination of A and B increses the relief hours.\n",
    "- A is more significant than B in the compound AB.\n"
   ]
  }
 ],
 "metadata": {
  "kernelspec": {
   "display_name": "Python 3",
   "language": "python",
   "name": "python3"
  },
  "language_info": {
   "codemirror_mode": {
    "name": "ipython",
    "version": 3
   },
   "file_extension": ".py",
   "mimetype": "text/x-python",
   "name": "python",
   "nbconvert_exporter": "python",
   "pygments_lexer": "ipython3",
   "version": "3.7.3"
  }
 },
 "nbformat": 4,
 "nbformat_minor": 2
}
